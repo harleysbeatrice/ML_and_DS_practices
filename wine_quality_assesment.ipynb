{
 "cells": [
  {
   "cell_type": "code",
   "execution_count": 42,
   "id": "333d1097",
   "metadata": {},
   "outputs": [],
   "source": [
    "import pandas as pd\n",
    "import numpy as np\n",
    "from sklearn.feature_selection import SelectKBest, f_regression\n",
    "from sklearn.model_selection import train_test_split\n",
    "from sklearn.linear_model import LinearRegression"
   ]
  },
  {
   "cell_type": "code",
   "execution_count": 34,
   "id": "c7c25440",
   "metadata": {},
   "outputs": [],
   "source": [
    "red = pd.read_csv(\"winequality-red.csv\",sep = \";\")\n",
    "white = pd.read_csv(\"winequality-white.csv\",sep = \";\")"
   ]
  },
  {
   "cell_type": "code",
   "execution_count": 35,
   "id": "64408f03",
   "metadata": {},
   "outputs": [],
   "source": [
    "red[\"isRed\"] = 1\n",
    "white[\"isRed\"] = 0"
   ]
  },
  {
   "cell_type": "code",
   "execution_count": 38,
   "id": "26011442",
   "metadata": {},
   "outputs": [
    {
     "data": {
      "text/plain": [
       "fixed acidity           0\n",
       "volatile acidity        0\n",
       "citric acid             0\n",
       "residual sugar          0\n",
       "chlorides               0\n",
       "free sulfur dioxide     0\n",
       "total sulfur dioxide    0\n",
       "density                 0\n",
       "pH                      0\n",
       "sulphates               0\n",
       "alcohol                 0\n",
       "quality                 0\n",
       "isRed                   0\n",
       "dtype: int64"
      ]
     },
     "execution_count": 38,
     "metadata": {},
     "output_type": "execute_result"
    }
   ],
   "source": [
    "wines = red.append(white)\n",
    "wines.isnull().sum()"
   ]
  },
  {
   "cell_type": "code",
   "execution_count": 39,
   "id": "4f473867",
   "metadata": {
    "scrolled": true
   },
   "outputs": [],
   "source": [
    "X = wines.drop(\"quality\",axis = 1)\n",
    "y = wines[\"quality\"]"
   ]
  },
  {
   "cell_type": "code",
   "execution_count": 62,
   "id": "423a681a",
   "metadata": {},
   "outputs": [],
   "source": [
    "X_train, X_test, y_train, y_test = train_test_split(X,y, test_size = 0.2,random_state = 30)"
   ]
  },
  {
   "cell_type": "code",
   "execution_count": 61,
   "id": "d4a79fc3",
   "metadata": {},
   "outputs": [],
   "source": [
    "lr = LinearRegression()"
   ]
  },
  {
   "cell_type": "markdown",
   "id": "76bd3a20",
   "metadata": {},
   "source": [
    "### Linear Regression without Feature Selection"
   ]
  },
  {
   "cell_type": "code",
   "execution_count": 63,
   "id": "e5d07024",
   "metadata": {},
   "outputs": [
    {
     "name": "stdout",
     "output_type": "stream",
     "text": [
      "Coefficients:  [ 1.00465264e-01 -1.47039881e+00 -7.04242446e-02  6.72046360e-02\n",
      " -5.87579301e-01  4.46068872e-03 -1.49191804e-03 -1.10750387e+02\n",
      "  5.97416879e-01  6.74983147e-01  2.16784077e-01  3.32308836e-01]\n",
      "Intercept:  110.8591703306718\n"
     ]
    }
   ],
   "source": [
    "lr.fit(X_train,y_train)\n",
    "print(\"Coefficients: \",lr.coef_)\n",
    "print(\"Intercept: \",lr.intercept_)"
   ]
  },
  {
   "cell_type": "markdown",
   "id": "ef405f98",
   "metadata": {},
   "source": [
    "### Regression with Feature Selection "
   ]
  },
  {
   "cell_type": "code",
   "execution_count": 64,
   "id": "0e552cde",
   "metadata": {},
   "outputs": [
    {
     "data": {
      "text/plain": [
       "SelectKBest(k='all', score_func=<function f_regression at 0x0000021EE6D85F78>)"
      ]
     },
     "execution_count": 64,
     "metadata": {},
     "output_type": "execute_result"
    }
   ],
   "source": [
    "feat_select = SelectKBest(score_func = f_regression, k = \"all\")\n",
    "feat_select.fit(X_train, y_train)"
   ]
  },
  {
   "cell_type": "code",
   "execution_count": 66,
   "id": "54c8c0b8",
   "metadata": {},
   "outputs": [
    {
     "data": {
      "text/plain": [
       "<AxesSubplot:>"
      ]
     },
     "execution_count": 66,
     "metadata": {},
     "output_type": "execute_result"
    },
    {
     "data": {
      "image/png": "[encoded data removed]",
      "text/plain": [
       "<Figure size 432x288 with 1 Axes>"
      ]
     },
     "metadata": {
      "needs_background": "light"
     },
     "output_type": "display_data"
    }
   ],
   "source": [
    "import matplotlib.pyplot as plt\n",
    "import seaborn as sns\n",
    "sns.barplot(x = X.columns, y = feat_select.scores_)"
   ]
  },
  {
   "cell_type": "code",
   "execution_count": 67,
   "id": "c5d6d518",
   "metadata": {},
   "outputs": [
    {
     "data": {
      "text/html": [
       "<div>\n",
       "<style scoped>\n",
       "    .dataframe tbody tr th:only-of-type {\n",
       "        vertical-align: middle;\n",
       "    }\n",
       "\n",
       "    .dataframe tbody tr th {\n",
       "        vertical-align: top;\n",
       "    }\n",
       "\n",
       "    .dataframe thead th {\n",
       "        text-align: right;\n",
       "    }\n",
       "</style>\n",
       "<table border=\"1\" class=\"dataframe\">\n",
       "  <thead>\n",
       "    <tr style=\"text-align: right;\">\n",
       "      <th></th>\n",
       "      <th>F Score</th>\n",
       "      <th>Use?</th>\n",
       "    </tr>\n",
       "  </thead>\n",
       "  <tbody>\n",
       "    <tr>\n",
       "      <th>fixed acidity</th>\n",
       "      <td>29.829652</td>\n",
       "      <td>No</td>\n",
       "    </tr>\n",
       "    <tr>\n",
       "      <th>volatile acidity</th>\n",
       "      <td>418.482081</td>\n",
       "      <td>Yes</td>\n",
       "    </tr>\n",
       "    <tr>\n",
       "      <th>citric acid</th>\n",
       "      <td>41.347690</td>\n",
       "      <td>No</td>\n",
       "    </tr>\n",
       "    <tr>\n",
       "      <th>residual sugar</th>\n",
       "      <td>5.140428</td>\n",
       "      <td>No</td>\n",
       "    </tr>\n",
       "    <tr>\n",
       "      <th>chlorides</th>\n",
       "      <td>224.084597</td>\n",
       "      <td>Yes</td>\n",
       "    </tr>\n",
       "    <tr>\n",
       "      <th>free sulfur dioxide</th>\n",
       "      <td>14.181955</td>\n",
       "      <td>No</td>\n",
       "    </tr>\n",
       "    <tr>\n",
       "      <th>total sulfur dioxide</th>\n",
       "      <td>9.261504</td>\n",
       "      <td>No</td>\n",
       "    </tr>\n",
       "    <tr>\n",
       "      <th>density</th>\n",
       "      <td>537.242318</td>\n",
       "      <td>Yes</td>\n",
       "    </tr>\n",
       "    <tr>\n",
       "      <th>pH</th>\n",
       "      <td>2.325331</td>\n",
       "      <td>No</td>\n",
       "    </tr>\n",
       "    <tr>\n",
       "      <th>sulphates</th>\n",
       "      <td>3.619679</td>\n",
       "      <td>No</td>\n",
       "    </tr>\n",
       "    <tr>\n",
       "      <th>alcohol</th>\n",
       "      <td>1297.376905</td>\n",
       "      <td>Yes</td>\n",
       "    </tr>\n",
       "    <tr>\n",
       "      <th>isRed</th>\n",
       "      <td>89.153528</td>\n",
       "      <td>No</td>\n",
       "    </tr>\n",
       "  </tbody>\n",
       "</table>\n",
       "</div>"
      ],
      "text/plain": [
       "                          F Score Use?\n",
       "fixed acidity           29.829652   No\n",
       "volatile acidity       418.482081  Yes\n",
       "citric acid             41.347690   No\n",
       "residual sugar           5.140428   No\n",
       "chlorides              224.084597  Yes\n",
       "free sulfur dioxide     14.181955   No\n",
       "total sulfur dioxide     9.261504   No\n",
       "density                537.242318  Yes\n",
       "pH                       2.325331   No\n",
       "sulphates                3.619679   No\n",
       "alcohol               1297.376905  Yes\n",
       "isRed                   89.153528   No"
      ]
     },
     "execution_count": 67,
     "metadata": {},
     "output_type": "execute_result"
    }
   ],
   "source": [
    "selection_table = pd.DataFrame(feat_select.scores_,index = X.columns, columns = [\"F Score\"] )\n",
    "selection_table[\"Use?\"] = np.where(selection_table[\"F Score\"]>100,\"Yes\",\"No\")\n",
    "selection_table"
   ]
  },
  {
   "cell_type": "code",
   "execution_count": 68,
   "id": "f78396c4",
   "metadata": {},
   "outputs": [],
   "source": [
    "X_adj = wines[[\"volatile acidity\",\"chlorides\",\"density\",\"alcohol\"]]\n",
    "X_train_adj, X_test_adj, y_train, y_test = train_test_split(X_adj,y,test_size = 0.2,\n",
    "                                                            random_state = 30)"
   ]
  },
  {
   "cell_type": "code",
   "execution_count": 71,
   "id": "f5a92022",
   "metadata": {},
   "outputs": [
    {
     "name": "stdout",
     "output_type": "stream",
     "text": [
      "Coefficients:  [-1.48311336 -0.24089003 38.21941299  0.38138326]\n",
      "Intercept:  -35.668341991424796\n"
     ]
    }
   ],
   "source": [
    "lr = LinearRegression()\n",
    "lr.fit(X_train_adj,y_train)\n",
    "print(\"Coefficients: \",lr.coef_)\n",
    "print(\"Intercept: \", lr.intercept_)"
   ]
  }
 ],
 "metadata": {
  "kernelspec": {
   "display_name": "Python 3 (ipykernel)",
   "language": "python",
   "name": "python3"
  },
  "language_info": {
   "codemirror_mode": {
    "name": "ipython",
    "version": 3
   },
   "file_extension": ".py",
   "mimetype": "text/x-python",
   "name": "python",
   "nbconvert_exporter": "python",
   "pygments_lexer": "ipython3",
   "version": "3.7.10"
  }
 },
 "nbformat": 4,
 "nbformat_minor": 5
}
